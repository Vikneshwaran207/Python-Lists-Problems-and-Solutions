{
  "nbformat": 4,
  "nbformat_minor": 0,
  "metadata": {
    "colab": {
      "name": "Python List problems.ipynb",
      "provenance": [],
      "authorship_tag": "ABX9TyMmv7dMRkgyM7hLQBiwFAUb",
      "include_colab_link": true
    },
    "kernelspec": {
      "name": "python3",
      "display_name": "Python 3"
    },
    "language_info": {
      "name": "python"
    }
  },
  "cells": [
    {
      "cell_type": "markdown",
      "metadata": {
        "id": "view-in-github",
        "colab_type": "text"
      },
      "source": [
        "<a href=\"https://colab.research.google.com/github/Vikneshwaran207/Python-Lists-Problems-and-Solutions/blob/main/Python_List_problems.ipynb\" target=\"_parent\"><img src=\"https://colab.research.google.com/assets/colab-badge.svg\" alt=\"Open In Colab\"/></a>"
      ]
    },
    {
      "cell_type": "markdown",
      "source": [
        "# Swap 1st and last element of list"
      ],
      "metadata": {
        "id": "6j_HoGN7R_Pn"
      }
    },
    {
      "cell_type": "code",
      "execution_count": null,
      "metadata": {
        "colab": {
          "base_uri": "https://localhost:8080/"
        },
        "id": "8nVBXlcaP8hy",
        "outputId": "44372ca9-2415-4bde-896a-5ad069e30121"
      },
      "outputs": [
        {
          "output_type": "stream",
          "name": "stdout",
          "text": [
            "[60, 24, 36, 48, 12]\n"
          ]
        }
      ],
      "source": [
        "a = [12,24,36,48,60]\n",
        "def swap(a):\n",
        "    a[0], a[-1] = a[-1], a[0]\n",
        "    return a\n",
        "print(swap(a))"
      ]
    },
    {
      "cell_type": "markdown",
      "source": [
        "# Swap two elements in a list"
      ],
      "metadata": {
        "id": "3cpLCJNYSOIf"
      }
    },
    {
      "cell_type": "code",
      "source": [
        "a = [12,24,36,48,60]\n",
        "def swap(a,pos1,pos2):\n",
        "    a[pos1], a[pos2] = a[pos2], a[pos1]\n",
        "    return a\n",
        "pos1,pos2 = 3,5\n",
        "print(swap(a,pos1-1,pos2-1))"
      ],
      "metadata": {
        "colab": {
          "base_uri": "https://localhost:8080/"
        },
        "id": "r2G3sFzCTEK6",
        "outputId": "b074a155-b4d8-4c7d-96e6-75629d1a2105"
      },
      "execution_count": null,
      "outputs": [
        {
          "output_type": "stream",
          "name": "stdout",
          "text": [
            "[12, 24, 60, 48, 36]\n"
          ]
        }
      ]
    },
    {
      "cell_type": "markdown",
      "source": [
        "# Find Length of the list using len() function"
      ],
      "metadata": {
        "id": "bwotF0JET3pz"
      }
    },
    {
      "cell_type": "code",
      "source": [
        "a = [12,24,36,48,60]\n",
        "\n",
        "print(len(a))"
      ],
      "metadata": {
        "colab": {
          "base_uri": "https://localhost:8080/"
        },
        "id": "--VMN_WXUQN0",
        "outputId": "376cea55-fddc-4173-f961-83ff675372f6"
      },
      "execution_count": null,
      "outputs": [
        {
          "output_type": "stream",
          "name": "stdout",
          "text": [
            "5\n"
          ]
        }
      ]
    },
    {
      "cell_type": "code",
      "source": [
        "a = []\n",
        "a.append(\"12\")\n",
        "a.append(\"24\")\n",
        "a.append(\"36\")\n",
        "a.append(\"48\")\n",
        "a.append(\"60\")\n",
        "\n",
        "print(\"The length of list a is\", len(a))"
      ],
      "metadata": {
        "colab": {
          "base_uri": "https://localhost:8080/"
        },
        "id": "s6HyoQKsU5N1",
        "outputId": "da71dbd9-bdb5-40db-9153-9591a114ea0a"
      },
      "execution_count": null,
      "outputs": [
        {
          "output_type": "stream",
          "name": "stdout",
          "text": [
            "The length of list a is 5\n"
          ]
        }
      ]
    },
    {
      "cell_type": "code",
      "source": [
        "a = []\n",
        "a.append(\"Hello\")\n",
        "a.append(\"World\")\n",
        "a.append(\"Vikram\")\n",
        "a.append(\"Rolex\")\n",
        "a.append(\"Dilli\")\n",
        "\n",
        "print(\"The elements in the list a is\", a)\n",
        "print(\"The length of list a is\", len(a))"
      ],
      "metadata": {
        "colab": {
          "base_uri": "https://localhost:8080/"
        },
        "id": "apN4dUGlXTta",
        "outputId": "885f214d-f8b4-42fe-cfe1-04c3326a7c83"
      },
      "execution_count": null,
      "outputs": [
        {
          "output_type": "stream",
          "name": "stdout",
          "text": [
            "The elements in the list a is ['Hello', 'World', 'Vikram', 'Rolex', 'Dilli']\n",
            "The length of list a is 5\n"
          ]
        }
      ]
    },
    {
      "cell_type": "markdown",
      "source": [
        "# Maximum of Two numbers"
      ],
      "metadata": {
        "id": "toLrsuujbpTq"
      }
    },
    {
      "cell_type": "code",
      "source": [
        "a = 12\n",
        "b = 60\n",
        "def max(a,b):\n",
        "   if a >= b:\n",
        "      return a\n",
        "   else:\n",
        "      return b\n",
        "print (max(a,b))"
      ],
      "metadata": {
        "colab": {
          "base_uri": "https://localhost:8080/"
        },
        "id": "tii8ilH0crjd",
        "outputId": "774a0a36-2bdd-449e-b6dd-18477f3a9e6f"
      },
      "execution_count": null,
      "outputs": [
        {
          "output_type": "stream",
          "name": "stdout",
          "text": [
            "60\n"
          ]
        }
      ]
    },
    {
      "cell_type": "code",
      "source": [
        "a = 122\n",
        "b = 60\n",
        "number = max(a,b)\n",
        "print(\" the maximum no. between two is\", number)"
      ],
      "metadata": {
        "colab": {
          "base_uri": "https://localhost:8080/"
        },
        "id": "RoGHy-FpeZAM",
        "outputId": "e056d9f5-b346-4c06-be85-176e03a770a1"
      },
      "execution_count": null,
      "outputs": [
        {
          "output_type": "stream",
          "name": "stdout",
          "text": [
            " the maximum no. between two is 122\n"
          ]
        }
      ]
    },
    {
      "cell_type": "code",
      "source": [
        "a = 122\n",
        "b = 150\n",
        "print ( a if a>=b else b)"
      ],
      "metadata": {
        "colab": {
          "base_uri": "https://localhost:8080/"
        },
        "id": "9zXIuQlSjZi_",
        "outputId": "cd507b06-d0c6-44a8-b346-dd90a9532abf"
      },
      "execution_count": null,
      "outputs": [
        {
          "output_type": "stream",
          "name": "stdout",
          "text": [
            "150\n"
          ]
        }
      ]
    },
    {
      "cell_type": "markdown",
      "source": [
        "# Minimum of two numbers"
      ],
      "metadata": {
        "id": "ZO6jRylsizsg"
      }
    },
    {
      "cell_type": "code",
      "source": [
        "a = 12\n",
        "b = 60\n",
        "def min(a,b):\n",
        "   if a <= b:\n",
        "      return a\n",
        "   else:\n",
        "      return b\n",
        "print (min(a,b))"
      ],
      "metadata": {
        "colab": {
          "base_uri": "https://localhost:8080/"
        },
        "id": "CZmUEkY9i4hV",
        "outputId": "dd8b4dda-9bb6-456c-c89a-8359a703bd5e"
      },
      "execution_count": null,
      "outputs": [
        {
          "output_type": "stream",
          "name": "stdout",
          "text": [
            "12\n"
          ]
        }
      ]
    },
    {
      "cell_type": "code",
      "source": [
        "a = 122\n",
        "b = 60\n",
        "number = min(a,b)\n",
        "print(\" the minimum no. between two is\", number)"
      ],
      "metadata": {
        "colab": {
          "base_uri": "https://localhost:8080/"
        },
        "id": "sv97swhSjxtc",
        "outputId": "bf49438a-6836-4366-ec9e-2f2026c53265"
      },
      "execution_count": null,
      "outputs": [
        {
          "output_type": "stream",
          "name": "stdout",
          "text": [
            " the minimum no. between two is 60\n"
          ]
        }
      ]
    },
    {
      "cell_type": "markdown",
      "source": [
        "# Print even numbers in the range"
      ],
      "metadata": {
        "id": "Zvg0A3SWqQfr"
      }
    },
    {
      "cell_type": "code",
      "source": [
        "start = 10\n",
        "end = 21\n",
        "for num in range(10,21,2):\n",
        "    print(num)"
      ],
      "metadata": {
        "colab": {
          "base_uri": "https://localhost:8080/"
        },
        "id": "GR7wcnR5qWm4",
        "outputId": "3bd6d63b-ec9f-468a-c015-6a098a26a453"
      },
      "execution_count": 33,
      "outputs": [
        {
          "output_type": "stream",
          "name": "stdout",
          "text": [
            "10\n",
            "12\n",
            "14\n",
            "16\n",
            "18\n",
            "20\n"
          ]
        }
      ]
    },
    {
      "cell_type": "code",
      "source": [
        "start = int(input(\"Enter start num?\"))\n",
        "end = int(input(\"Enter end num?\"))\n",
        "for num in range(start,end,+1):\n",
        "    if num % 2 == 0 :\n",
        "       print(num, end = \" \")"
      ],
      "metadata": {
        "colab": {
          "base_uri": "https://localhost:8080/"
        },
        "id": "XZVlk09fr67P",
        "outputId": "6c61df2b-1011-4136-fa78-2eaddda12ee1"
      },
      "execution_count": 36,
      "outputs": [
        {
          "output_type": "stream",
          "name": "stdout",
          "text": [
            "Enter start num?4\n",
            "Enter end num?10\n",
            "4 6 8 "
          ]
        }
      ]
    },
    {
      "cell_type": "markdown",
      "source": [
        "# Print odd numbers in range"
      ],
      "metadata": {
        "id": "FE1vxrKPwhXd"
      }
    },
    {
      "cell_type": "code",
      "source": [
        "start = 10\n",
        "end = 21\n",
        "for num in range(start,end,+1):\n",
        "    if num % 2 != 0:\n",
        "       print(num, end = \" \")"
      ],
      "metadata": {
        "colab": {
          "base_uri": "https://localhost:8080/"
        },
        "id": "a0_OqO46wmeG",
        "outputId": "def8d02d-3abf-4b87-c13a-2bbf2e75d1e1"
      },
      "execution_count": 39,
      "outputs": [
        {
          "output_type": "stream",
          "name": "stdout",
          "text": [
            "11 13 15 17 19 "
          ]
        }
      ]
    },
    {
      "cell_type": "code",
      "source": [
        "start = int(input(\"Enter start num?\"))\n",
        "end = int(input(\"Enter end num?\"))\n",
        "for num in range(start,end,+1):\n",
        "    if num % 2 != 0 :\n",
        "       print(num, end = \" \")"
      ],
      "metadata": {
        "colab": {
          "base_uri": "https://localhost:8080/"
        },
        "id": "JQDIbQuLxniy",
        "outputId": "936ca20b-83c4-4b99-d399-756515ce397c"
      },
      "execution_count": 40,
      "outputs": [
        {
          "output_type": "stream",
          "name": "stdout",
          "text": [
            "Enter start num?2\n",
            "Enter end num?12\n",
            "3 5 7 9 11 "
          ]
        }
      ]
    }
  ]
}